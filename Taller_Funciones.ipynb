{
  "nbformat": 4,
  "nbformat_minor": 0,
  "metadata": {
    "colab": {
      "provenance": [],
      "authorship_tag": "ABX9TyOYpB3dFminG+3jiOYMN624",
      "include_colab_link": true
    },
    "kernelspec": {
      "name": "python3",
      "display_name": "Python 3"
    },
    "language_info": {
      "name": "python"
    }
  },
  "cells": [
    {
      "cell_type": "markdown",
      "metadata": {
        "id": "view-in-github",
        "colab_type": "text"
      },
      "source": [
        "<a href=\"https://colab.research.google.com/github/Steven08Ar/miproyecto/blob/master/Taller_Funciones.ipynb\" target=\"_parent\"><img src=\"https://colab.research.google.com/assets/colab-badge.svg\" alt=\"Open In Colab\"/></a>"
      ]
    },
    {
      "cell_type": "markdown",
      "source": [
        "**Nivel 1 - Funciones sin parámetros ni retorno**"
      ],
      "metadata": {
        "id": "_Xtn-rfnrflA"
      }
    },
    {
      "cell_type": "code",
      "execution_count": null,
      "metadata": {
        "id": "pEX0y0pSqt4L"
      },
      "outputs": [],
      "source": [
        "def hola_mundo():\n",
        "    print(\"Hola mundo!\")\n",
        "\n",
        "hola_mundo()"
      ]
    },
    {
      "cell_type": "code",
      "source": [
        "def edad():\n",
        "    edad = input(\"¿Cuál es tu edad? \")\n",
        "    print(\"Tu edad es:\", edad, \"años\")\n",
        "\n",
        "edad()"
      ],
      "metadata": {
        "id": "irqpYWrerSrq"
      },
      "execution_count": null,
      "outputs": []
    },
    {
      "cell_type": "code",
      "source": [
        "def suma():\n",
        "    num1 = input(\"Ingrese el primer número: \")\n",
        "    num2 = input(\"Ingrese el segundo número: \")\n",
        "    suma = int(num1) + int(num2)\n",
        "    print(\"La suma es:\", suma)\n",
        "\n",
        "suma()"
      ],
      "metadata": {
        "id": "xA_Xzm4OrYdw"
      },
      "execution_count": null,
      "outputs": []
    },
    {
      "cell_type": "markdown",
      "source": [
        "**Nivel 2 - Funciones con parámetros pero sin retorno**"
      ],
      "metadata": {
        "id": "tGhhIVYYrnxQ"
      }
    },
    {
      "cell_type": "code",
      "source": [
        "def mayor_edad():\n",
        "  edad = int(input(\"Digite su edad: \"))\n",
        "  if edad >= 18:\n",
        "    print(\"Eres mayor de edad\")\n",
        "  else:\n",
        "    print(\"Eres menor de edad\")\n",
        "\n",
        "mayor_edad()"
      ],
      "metadata": {
        "id": "HoWxuZFUr5KX"
      },
      "execution_count": null,
      "outputs": []
    },
    {
      "cell_type": "code",
      "source": [
        "nombre = input(\"Ingrese su nombre: \")\n",
        "\n",
        "print(\"Hola,\", nombre, \"!\")"
      ],
      "metadata": {
        "id": "Sp24qjhpsRz1"
      },
      "execution_count": null,
      "outputs": []
    },
    {
      "cell_type": "code",
      "source": [
        "def tabla(numero):\n",
        "    for i in range(1, 11):\n",
        "        print(numero, \"x\", i, \"=\", numero * i)\n",
        "\n",
        "tabla(int(input(\"Digite un numero: \")))"
      ],
      "metadata": {
        "id": "JLWcAV-dtg-c"
      },
      "execution_count": null,
      "outputs": []
    },
    {
      "cell_type": "markdown",
      "source": [
        "**Nivel 3 - Funciones con parámetros y retorno**"
      ],
      "metadata": {
        "id": "m4Vjyny1v2iH"
      }
    },
    {
      "cell_type": "code",
      "source": [
        "def mayor_num():\n",
        "\n",
        "    num1 = int(input(\"Digite el primer número: \"))\n",
        "    num2 = int(input(\"Digite el segundo número: \"))\n",
        "    num3 = int(input(\"Digite el tercer número: \"))\n",
        "\n",
        "    if num1 > num2:\n",
        "        mayor = num1\n",
        "    if num1 > num3:\n",
        "        mayor = num1\n",
        "    if num2 > num1:\n",
        "        mayor = num2\n",
        "    if num2 > num3:\n",
        "        mayor = num2\n",
        "    if num3 > num1:\n",
        "        mayor = num3\n",
        "    if num3 > num2:\n",
        "        mayor = num3\n",
        "    return mayor\n",
        "\n",
        "mayor_num()"
      ],
      "metadata": {
        "id": "w8s7uy4Uv_uH"
      },
      "execution_count": null,
      "outputs": []
    },
    {
      "cell_type": "code",
      "source": [
        "def buscar_palabra(cadena, palabra):\n",
        "    palabra = input(\"Ingrese la palabra que desea buscar: \")\n",
        "    for i in range(len(cadena)):\n",
        "        if cadena[i:i + len(palabra)] == palabra:\n",
        "            return True\n",
        "    return False\n",
        "\n",
        "print(buscar_palabra(\"Python es útil para escribir código.\", \"Python\"))"
      ],
      "metadata": {
        "id": "f2H-MU0rXI2m"
      },
      "execution_count": null,
      "outputs": []
    },
    {
      "cell_type": "code",
      "source": [
        "def area_rectangulo():\n",
        "    base = float(input(\"Ingrese la base del rectángulo: \"))\n",
        "    altura = float(input(\"Ingrese la altura del rectángulo: \"))\n",
        "    return base * altura\n",
        "\n",
        "print(area_rectangulo())"
      ],
      "metadata": {
        "id": "064TXyaCdI_S"
      },
      "execution_count": null,
      "outputs": []
    },
    {
      "cell_type": "markdown",
      "source": [
        "**Nivel 4 - Funciones con múltiples parámetros y retorno**"
      ],
      "metadata": {
        "id": "sQ_WQ1kZdQZd"
      }
    },
    {
      "cell_type": "code",
      "source": [
        "def multiplicar_lista(lista, numero):\n",
        "    nueva_lista = []\n",
        "    for elemento in lista:\n",
        "        nueva_lista.append(elemento * numero)\n",
        "    return nueva_lista\n",
        "\n",
        "lista = []\n",
        "for i in range(3):\n",
        "    lista.append(int(input(\"Ingrese un número: \")))\n",
        "\n",
        "numero = int(input(\"Ingrese un número para multiplicar la lista: \"))\n",
        "\n",
        "print(multiplicar_lista(lista, numero))"
      ],
      "metadata": {
        "id": "HgCJ-fI9dWsX"
      },
      "execution_count": null,
      "outputs": []
    },
    {
      "cell_type": "code",
      "source": [
        "def promedio(*numeros):\n",
        "    suma = 0\n",
        "    for numero in numeros:\n",
        "        suma += numero\n",
        "    return suma / len(numeros)\n",
        "\n",
        "numeros = []\n",
        "for i in range(3):\n",
        "    numeros.append(float(input(\"Ingrese un número: \")))\n",
        "\n",
        "print(promedio(*numeros))"
      ],
      "metadata": {
        "id": "PVvadCncd-Vw"
      },
      "execution_count": null,
      "outputs": []
    },
    {
      "cell_type": "code",
      "source": [
        "def contar_ocurrencias(cadena, palabra):\n",
        "    ocurrencias = 0\n",
        "    for i in range(len(cadena)):\n",
        "        if cadena[i:i + len(palabra)] == palabra:\n",
        "            ocurrencias += 1\n",
        "    return ocurrencias\n",
        "\n",
        "cadena = input(\"Ingrese una cadena de texto: \")\n",
        "palabra = input(\"Ingrese una palabra: \")\n",
        "\n",
        "print(contar_ocurrencias(cadena, palabra))"
      ],
      "metadata": {
        "id": "z1k4Iamsd-bB"
      },
      "execution_count": null,
      "outputs": []
    }
  ]
}